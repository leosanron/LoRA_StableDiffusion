{
  "cells": [
    {
      "cell_type": "markdown",
      "id": "9e166175",
      "metadata": {
        "id": "9e166175"
      },
      "source": [
        "# Loading several LoRA models"
      ]
    },
    {
      "cell_type": "code",
      "execution_count": null,
      "id": "5085e0a4",
      "metadata": {
        "colab": {
          "base_uri": "https://localhost:8080/"
        },
        "id": "5085e0a4",
        "outputId": "fb12734a-1890-4256-b8ba-b2153cc0dfe3"
      },
      "outputs": [],
      "source": [
        "! nvidia-smi --query-gpu=name,memory.total,memory.free --format=csv,noheader"
      ]
    },
    {
      "cell_type": "code",
      "execution_count": null,
      "id": "LT6_Q04RblyH",
      "metadata": {
        "colab": {
          "base_uri": "https://localhost:8080/"
        },
        "id": "LT6_Q04RblyH",
        "outputId": "c782c035-6779-48a0-ad37-c7ade291906c"
      },
      "outputs": [],
      "source": [
        "! pip install peft xformers bitsandbytes transformers accelerate -q"
      ]
    },
    {
      "cell_type": "code",
      "execution_count": null,
      "id": "374179aa",
      "metadata": {},
      "outputs": [],
      "source": [
        "! pip install git+https://github.com/huggingface/diffusers.git -q"
      ]
    },
    {
      "cell_type": "code",
      "execution_count": null,
      "id": "94bb9763",
      "metadata": {
        "id": "94bb9763"
      },
      "outputs": [],
      "source": [
        "import torch\n",
        "from diffusers import DiffusionPipeline\n",
        "from diffusers import EulerAncestralDiscreteScheduler\n",
        "\n",
        "import warnings\n",
        "warnings.filterwarnings('ignore')"
      ]
    },
    {
      "cell_type": "markdown",
      "id": "4xHb9SACeecy",
      "metadata": {
        "id": "4xHb9SACeecy"
      },
      "source": [
        "## Stable Diffusion 1.5"
      ]
    },
    {
      "cell_type": "markdown",
      "id": "b3a7ef99",
      "metadata": {},
      "source": [
        "###  LoRA TempestMagic \n",
        "https://civitai.com/models/330933?modelVersionId=370779"
      ]
    },
    {
      "cell_type": "code",
      "execution_count": null,
      "id": "55fa315d",
      "metadata": {},
      "outputs": [],
      "source": [
        "pipe = DiffusionPipeline.from_pretrained(\"runwayml/stable-diffusion-v1-5\", torch_dtype=torch.float16).to(\"cuda\")\n",
        "\n",
        "pipe.load_lora_weights(\"civitai_sd15_loras\", weight_name=\"TempestMagic-21.safetensors\")\n",
        "pipe.scheduler=EulerAncestralDiscreteScheduler.from_pretrained(\"runwayml/stable-diffusion-v1-5\", subfolder=\"scheduler\")"
      ]
    },
    {
      "cell_type": "markdown",
      "id": "4aae8ee7",
      "metadata": {},
      "source": [
        "Usando un prompt normal podemos ya ver \"estilo\" parecido"
      ]
    },
    {
      "cell_type": "code",
      "execution_count": null,
      "id": "5c6eb576",
      "metadata": {},
      "outputs": [],
      "source": [
        "image = pipe(\"A book, very detailed, ultradefined, artstation, trending on artstation, 8k, HQ, sharp focus\", guidance_scale=7.5, num_inference_steps=30).images[0]\n",
        "image"
      ]
    },
    {
      "cell_type": "markdown",
      "id": "6c4168ad",
      "metadata": {},
      "source": [
        "Pero en Civitai podemos ver que hay ciertas palabras que lo \"activan\" (Trigger Words) más como: `tempestmagic, fantasy, ethereal transparent, motion blur`"
      ]
    },
    {
      "cell_type": "code",
      "execution_count": null,
      "id": "d0061b23",
      "metadata": {},
      "outputs": [],
      "source": [
        "image = pipe(\"A book tempestmagic, fantasy, ethereal transparent, motion blur, very detailed, ultradefined, artstation, trending on artstation, 8k, HQ, sharp focus\", guidance_scale=7.5, num_inference_steps=30).images[0]\n",
        "image"
      ]
    },
    {
      "cell_type": "code",
      "execution_count": null,
      "id": "8f7f093d",
      "metadata": {},
      "outputs": [],
      "source": [
        "image = pipe(\"A portrait of a woman tempestmagic, very detailed, ultradefined, artstation, trending on artstation, 8k, HQ, sharp focus, ultra detailed, cinematic lighting, artistic\", guidance_scale=9, num_inference_steps=30).images[0]\n",
        "image"
      ]
    },
    {
      "cell_type": "markdown",
      "id": "a6169683",
      "metadata": {},
      "source": [
        "### LoRA Cyberpunk\n",
        "https://civitai.com/models/128568?modelVersionId=140788"
      ]
    },
    {
      "cell_type": "code",
      "execution_count": null,
      "id": "41af5cb0",
      "metadata": {},
      "outputs": [],
      "source": [
        "pipe = DiffusionPipeline.from_pretrained(\"runwayml/stable-diffusion-v1-5\", torch_dtype=torch.float16).to(\"cuda\")\n",
        "\n",
        "pipe.load_lora_weights(\"civitai_sd15_loras\", weight_name=\"Cyberpunk_Anime-10.safetensors\")\n",
        "pipe.scheduler=EulerAncestralDiscreteScheduler.from_pretrained(\"runwayml/stable-diffusion-v1-5\", subfolder=\"scheduler\")"
      ]
    },
    {
      "cell_type": "code",
      "execution_count": null,
      "id": "d8ca6fce",
      "metadata": {},
      "outputs": [],
      "source": [
        "image = pipe(\"A portrait of a space adventurer woman, very detailed, ultradefined, artstation, trending on artstation, 8k, HQ, sharp focus, ultra detailed, cinematic lighting, artistic\", guidance_scale=9, num_inference_steps=30).images[0]\n",
        "image"
      ]
    },
    {
      "cell_type": "markdown",
      "id": "c7affa9e",
      "metadata": {},
      "source": [
        "Añadiendo su Triger Word: `Cyberpunk_Anime`"
      ]
    },
    {
      "cell_type": "code",
      "execution_count": null,
      "id": "c8fe77a5",
      "metadata": {},
      "outputs": [],
      "source": [
        "image = pipe(\"A portrait of a space adventurer woman, Cyberpunk_Anime, very detailed, ultradefined, artstation, trending on artstation, 8k, HQ, sharp focus, ultra detailed, cinematic lighting, artistic\", guidance_scale=9, num_inference_steps=30).images[0]\n",
        "image"
      ]
    },
    {
      "cell_type": "markdown",
      "id": "c2795231",
      "metadata": {},
      "source": [
        "## Load several LoRA models and merge it!\n",
        "https://huggingface.co/docs/diffusers/using-diffusers/merge_loras"
      ]
    },
    {
      "cell_type": "code",
      "execution_count": null,
      "id": "8a2788ff",
      "metadata": {},
      "outputs": [],
      "source": [
        "pipe = DiffusionPipeline.from_pretrained(\"runwayml/stable-diffusion-v1-5\", torch_dtype=torch.float16).to(\"cuda\")"
      ]
    },
    {
      "cell_type": "code",
      "execution_count": null,
      "id": "8fe0c221",
      "metadata": {},
      "outputs": [],
      "source": [
        "# Load LoRAs and set the adapter names\n",
        "pipe.load_lora_weights(\"civitai_sd15_loras\", weight_name=\"TempestMagic-21.safetensors\", adapter_name=\"magic\")\n",
        "pipe.load_lora_weights(\"civitai_sd15_loras\", weight_name=\"Cyberpunk_Anime-10.safetensors\", adapter_name=\"cyber\")"
      ]
    },
    {
      "cell_type": "code",
      "execution_count": null,
      "id": "f18bc5cb",
      "metadata": {},
      "outputs": [],
      "source": [
        "# Set adapter weights\n",
        "pipe.set_adapters([\"magic\", \"cyber\"], adapter_weights=[0.9, 0.3])"
      ]
    },
    {
      "cell_type": "code",
      "execution_count": null,
      "id": "b7472deb",
      "metadata": {},
      "outputs": [],
      "source": [
        "image = pipe(\"A portrait of an space adventurer woman, very detailed, ultradefined, artstation, trending on artstation, 8k, HQ, sharp focus, ultra detailed, cinematic lighting, artistic\", guidance_scale=9, num_inference_steps=30).images[0]\n",
        "image"
      ]
    },
    {
      "cell_type": "markdown",
      "id": "e530eb99",
      "metadata": {},
      "source": [
        "---"
      ]
    },
    {
      "cell_type": "markdown",
      "id": "0nE9_MaPfHWc",
      "metadata": {
        "id": "0nE9_MaPfHWc"
      },
      "source": [
        "## SDXL"
      ]
    },
    {
      "cell_type": "code",
      "execution_count": null,
      "id": "5ugFmrFRWijU",
      "metadata": {
        "id": "5ugFmrFRWijU"
      },
      "outputs": [],
      "source": [
        "from diffusers import DiffusionPipeline\n",
        "import torch\n",
        "\n",
        "from diffusers import DiffusionPipeline, AutoencoderKL\n",
        "\n",
        "vae = AutoencoderKL.from_pretrained(\"madebyollin/sdxl-vae-fp16-fix\", torch_dtype=torch.float16)\n",
        "pipexl = DiffusionPipeline.from_pretrained(\n",
        "    \"stabilityai/stable-diffusion-xl-base-1.0\",\n",
        "    vae=vae, torch_dtype=torch.float16, variant=\"fp16\",\n",
        "    use_safetensors=True\n",
        ").to(\"cuda\")"
      ]
    },
    {
      "cell_type": "code",
      "execution_count": null,
      "id": "ggnMQIDZWipR",
      "metadata": {
        "id": "ggnMQIDZWipR"
      },
      "outputs": [],
      "source": [
        "pipexl.load_lora_weights(\"civitai_sdxl_loras\", weight_name=\"Tempest_Magic_-_XL_Grimoire.safetensors\")\n",
        "pipexl.scheduler=EulerAncestralDiscreteScheduler.from_pretrained(\"stabilityai/stable-diffusion-xl-base-1.0\", subfolder=\"scheduler\")"
      ]
    },
    {
      "cell_type": "code",
      "execution_count": null,
      "id": "ca43499c",
      "metadata": {},
      "outputs": [],
      "source": [
        "image = pipe(\"A book tempestmagic, ethereal transparent, motion blur\", guidance_scale=7.5, num_inference_steps=30).images[0]\n",
        "image"
      ]
    },
    {
      "cell_type": "markdown",
      "id": "zs9ayY07g6RV",
      "metadata": {
        "id": "zs9ayY07g6RV"
      },
      "source": [
        "---"
      ]
    }
  ],
  "metadata": {
    "accelerator": "GPU",
    "colab": {
      "gpuType": "T4",
      "provenance": []
    },
    "kernelspec": {
      "display_name": "Python 3",
      "name": "python3"
    },
    "language_info": {
      "codemirror_mode": {
        "name": "ipython",
        "version": 3
      },
      "file_extension": ".py",
      "mimetype": "text/x-python",
      "name": "python",
      "nbconvert_exporter": "python",
      "pygments_lexer": "ipython3",
      "version": "3.10.12"
    },
    "vscode": {
      "interpreter": {
        "hash": "0364e9020a262cdb7effdb32b8c42f887cf28bfb42db9a25dfdb5db4469544cb"
      }
    }
  },
  "nbformat": 4,
  "nbformat_minor": 5
}
